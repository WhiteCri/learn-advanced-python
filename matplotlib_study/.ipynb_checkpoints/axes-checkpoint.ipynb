{
 "cells": [
  {
   "cell_type": "code",
   "execution_count": null,
   "id": "5c873eac",
   "metadata": {},
   "outputs": [],
   "source": [
    "import matplotlib.pyplot as plt\n",
    "y = [1, 4, 9, 16, 25,36,49, 64]\n",
    "x1 = [1, 16, 30, 42,55, 68, 77,88]\n",
    "x2 = [1,6,12,18,28, 40, 52, 65]\n",
    "\n",
    "fig = plt.figure()\n",
    "ax = fig.add_axes([0, 0, 1, 1])\n",
    "\n",
    "l1 = ax.plot(x1, y, 'ys-') # solid line with yellow colour and square marker\n",
    "l2 = ax.plot(x2, y, 'go--') # dash line with green colour and circle marker\n",
    "\n",
    "ax.legend(labels=('tv', 'Smartphone'), loc ='lower right') # legend placed at lower right\n",
    "ax.set_title(\"Advertisement effect on sales\")\n",
    "ax.set_xlabel('medium')\n",
    "ax.set_ylabel('sales')\n",
    "\n",
    "plt.show()"
   ]
  }
 ],
 "metadata": {
  "kernelspec": {
   "display_name": "Python 3",
   "language": "python",
   "name": "python3"
  },
  "language_info": {
   "codemirror_mode": {
    "name": "ipython",
    "version": 3
   },
   "file_extension": ".py",
   "mimetype": "text/x-python",
   "name": "python",
   "nbconvert_exporter": "python",
   "pygments_lexer": "ipython3",
   "version": "3.8.8"
  }
 },
 "nbformat": 4,
 "nbformat_minor": 5
}
